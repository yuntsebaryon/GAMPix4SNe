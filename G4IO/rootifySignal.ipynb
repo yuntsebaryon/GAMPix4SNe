{
 "cells": [
  {
   "cell_type": "markdown",
   "id": "bd3446b6-097c-43ad-83d7-0b1641f6febd",
   "metadata": {},
   "source": [
    "# ROOTify the Supernova Neutrino Signal Sample"
   ]
  },
  {
   "cell_type": "code",
   "execution_count": 1,
   "id": "ee05ba88-1982-4dac-9c7f-015a9f15b21f",
   "metadata": {},
   "outputs": [],
   "source": [
    "import ROOT\n",
    "import pandas as pd"
   ]
  },
  {
   "cell_type": "code",
   "execution_count": 2,
   "id": "d7821c09-4d62-4585-84aa-72893e3e3b75",
   "metadata": {},
   "outputs": [],
   "source": [
    "fSN = ROOT.TFile(\"/Users/yuntse/data/lartpc_rd/gampix/sn/garching/nh/marley/nueArCC_garching_nh_mxDir_00.root\")\n",
    "fCSV = '/Users/yuntse/data/lartpc_rd/gampix/sn/garching/nh/gen/nueArCC_garching_nh_mxDir_0000.csv'\n",
    "fROOT = '/Users/yuntse/data/lartpc_rd/gampix/sn/garching/nh/gen/nueArCC_garching_nh_mxDir_0000.root'"
   ]
  },
  {
   "cell_type": "markdown",
   "id": "9b797358-765a-4919-97bb-da7cc86656bf",
   "metadata": {},
   "source": [
    "## Units\n",
    "\n",
    "MeV \\\n",
    "Use GeV, cm, ns in the output csv file\n",
    "\n",
    "## LAr Geometry\n",
    "\n",
    "X is the drift direction, vertical \\\n",
    "Xmin = -425.0cm \\\n",
    "Xmax = 425.08cm \\\n",
    "Cathode = -325cm \\\n",
    "CRP = 325cm \\\n",
    "Ymin = -753.8024cm \\\n",
    "Ymax = 753.8024cm \\\n",
    "Zmin = -107.0cm \\\n",
    "Zmax = 2198.88cm\n",
    "\n",
    "Strategy: Fix a single neutrino location in each sample.  Pick a few benchmark drift distances and create corresponding samples.\n",
    "\n",
    "## $t_0$\n",
    "\n",
    "$t_0$ = 0 as what is used in the DUNE low energy group"
   ]
  },
  {
   "cell_type": "code",
   "execution_count": 3,
   "id": "6864d2da-8883-43bc-afaf-fa644dac174f",
   "metadata": {},
   "outputs": [],
   "source": [
    "x = 0.\n",
    "y = 0.\n",
    "z = (-107+2198.88)/2.\n",
    "t = 0."
   ]
  },
  {
   "cell_type": "code",
   "execution_count": 4,
   "id": "0ed7fc9e-8bec-41ac-8c06-37afa8ac51fb",
   "metadata": {},
   "outputs": [],
   "source": [
    "run = 20000047\n",
    "subrun = 0"
   ]
  },
  {
   "cell_type": "code",
   "execution_count": 5,
   "id": "02b12b60-9754-4a7c-bb19-3f100cd425c5",
   "metadata": {},
   "outputs": [
    {
     "name": "stdout",
     "output_type": "stream",
     "text": [
      "OBJ: TObjArray\tTObjArray\tAn array of objects : 0\n",
      " OBJ: TBranchElement\tpdg\tpdg : 0 at: 0x14f5d4790\n",
      " OBJ: TBranchElement\tE\tE : 0 at: 0x14f5e27f0\n",
      " OBJ: TBranchElement\tpx\tpx : 0 at: 0x14f5e2be0\n",
      " OBJ: TBranchElement\tpy\tpy : 0 at: 0x14f5e2fd0\n",
      " OBJ: TBranchElement\tpz\tpz : 0 at: 0x14f5e33c0\n",
      " OBJ: TBranchElement\tm\tm : 0 at: 0x14f5e37b0\n"
     ]
    }
   ],
   "source": [
    "tSN = fSN.Get(\"kin\")\n",
    "tSN.GetListOfBranches().ls()"
   ]
  },
  {
   "cell_type": "code",
   "execution_count": 6,
   "id": "3312174c-5ebf-42de-a705-413d7518daf9",
   "metadata": {},
   "outputs": [],
   "source": [
    "iEvt = 0\n",
    "with open(fCSV, 'w') as fOut:\n",
    "    print('run/I,subrun/I,event/I,pdgCode/I,x/D,y/D,z/D,t/D,px/D,py/D,pz/D,E/D,mass/D', file = fOut)\n",
    "    for Part, Evt in enumerate( tSN ):\n",
    "        for pdg, E, px, py, pz, m in zip(Evt.pdg, Evt.E, Evt.px, Evt.py, Evt.pz, Evt.m):\n",
    "            print(f'{run},{subrun},{iEvt},{pdg},{x},{y},{z},{t},{px/1000.},{pz/1000.},{pz/1000.},{E/1000.},{m/1000.}', file = fOut)\n",
    "        iEvt += 1"
   ]
  },
  {
   "cell_type": "code",
   "execution_count": 7,
   "id": "e5673cd5-8834-4148-af2c-f0a6660aaf82",
   "metadata": {},
   "outputs": [],
   "source": [
    "fDest = ROOT.TFile(fROOT, \"RECREATE\")\n",
    "newTree = ROOT.TTree(\"SNEvent\", \"SNEvent\")\n",
    "newTree.ReadFile(fCSV, \"\", \",\")\n",
    "newTree.SetDirectory(fDest)\n",
    "newTree.Write()\n",
    "fDest.Close()"
   ]
  },
  {
   "cell_type": "code",
   "execution_count": null,
   "id": "d7c275cc-b638-4c1e-85ea-d7c003cac054",
   "metadata": {},
   "outputs": [],
   "source": []
  }
 ],
 "metadata": {
  "kernelspec": {
   "display_name": "Python 3 (ipykernel)",
   "language": "python",
   "name": "python3"
  },
  "language_info": {
   "codemirror_mode": {
    "name": "ipython",
    "version": 3
   },
   "file_extension": ".py",
   "mimetype": "text/x-python",
   "name": "python",
   "nbconvert_exporter": "python",
   "pygments_lexer": "ipython3",
   "version": "3.12.7"
  }
 },
 "nbformat": 4,
 "nbformat_minor": 5
}
