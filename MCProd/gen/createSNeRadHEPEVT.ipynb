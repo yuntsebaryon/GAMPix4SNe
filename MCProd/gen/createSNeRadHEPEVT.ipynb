{
 "cells": [
  {
   "cell_type": "markdown",
   "id": "64c1d27d",
   "metadata": {},
   "source": [
    "# Create HEPEVT Files for Supernova Neutrinos + Radiologicals\n",
    "\n",
    "Supernova neutrinos are generated with MARLEY and have the hepevt format.\n",
    "\n",
    "Radiological ROOT file is from Juergen and Gleb.\n",
    "\n",
    "This script is adpated from https://github.com/yuntsebaryon/GAMPix4SNe/blob/main/OldG4Format/G4IO/rootifyRad.ipynb, the one for the old format.\n",
    "\n",
    "## Units\n",
    "\n",
    "cm, GeV/c, ns\n",
    "\n",
    "for both the ROOT and HEPEVT files\n",
    "\n",
    "## LAr Geometry\n",
    "\n",
    "X is the drift direction, vertical \\\n",
    "Xmin = -425.0cm \\\n",
    "Xmax = 425.08cm \\\n",
    "Cathode = -325cm \\\n",
    "CRP = 325cm \\\n",
    "Ymin = -753.8024cm \\\n",
    "Ymax = 753.8024cm \\\n",
    "Zmin = -107.0cm \\\n",
    "Zmax = 2198.88cm\n",
    "\n",
    "Strategy: To reduce the processing time, I decide to futher reduce the LAr geometry.  I fix the location of neutrino interactions in each sample, i.e. the center in the y-z plane, and cut a square 150cm away from the center of the y-z plane.  Therefore it is a 300x300 cm$^2$ in the y-z plane.  The 150cm is obtained from my containment study for the SNS/COHERENT neutrino source; 96% of the total deposited energy from the SNS $\\nu_e$s (from $\\pi$ decays at rest) will be contained by the cube border 95cm away from the center (190x190x190cm$^3$)."
   ]
  },
  {
   "cell_type": "code",
   "execution_count": 1,
   "id": "8a46cf84",
   "metadata": {},
   "outputs": [],
   "source": [
    "import ROOT\n",
    "import numpy as np"
   ]
  },
  {
   "cell_type": "code",
   "execution_count": 2,
   "id": "7a64756b",
   "metadata": {},
   "outputs": [],
   "source": [
    "def readHepevt(filename, EvtNo):\n",
    "    events = []\n",
    "    with open(filename, 'r') as f:\n",
    "        while True:\n",
    "            header = f.readline()\n",
    "            if not header:\n",
    "                break  # End of file\n",
    "            parts = header.strip().split()\n",
    "            if len(parts) < 2:\n",
    "                continue\n",
    "            n_particles = int(parts[1])\n",
    "            event_id = EvtNo\n",
    "\n",
    "            particles = []\n",
    "            for _ in range(n_particles):\n",
    "                line = f.readline()\n",
    "                data = line.strip().split()\n",
    "                if len(data) < 15:\n",
    "                    continue\n",
    "                particle = {\n",
    "                    \"ISTHEP\": int(data[0]),\n",
    "                    \"IDHEP\": int(data[1]),\n",
    "                    \"JMOHEP1\": int(data[2]),\n",
    "                    \"JMOHEP2\": int(data[3]),\n",
    "                    \"JDAHEP1\": int(data[4]),\n",
    "                    \"JDAHEP2\": int(data[5]),\n",
    "                    \"PHEP1\": float(data[6]),\n",
    "                    \"PHEP2\": float(data[7]),\n",
    "                    \"PHEP3\": float(data[8]),\n",
    "                    \"PHEP4\": float(data[9]),\n",
    "                    \"PHEP5\": float(data[10]),\n",
    "                    \"VHEP1\": float(data[11]),\n",
    "                    \"VHEP2\": float(data[12]),\n",
    "                    \"VHEP3\": float(data[13]),\n",
    "                    \"VHEP4\": float(data[14]),\n",
    "                }\n",
    "                particles.append(particle)\n",
    "\n",
    "            events.append((event_id, particles))\n",
    "            EvtNo += 1\n",
    "    return events"
   ]
  },
  {
   "cell_type": "code",
   "execution_count": 3,
   "id": "9204ee34",
   "metadata": {},
   "outputs": [],
   "source": [
    "def assignXYZT(events, x, y ,z, t, firstEvtNo):\n",
    "    lengths = [ len(events), len(x), len(y), len(z), len(t) ]\n",
    "    if len(set(lengths)) != 1:\n",
    "        raise ValueError( f'Array lengths are not identical!')\n",
    "        \n",
    "    for event_id, particles in events:\n",
    "        ievt = event_id - firstEvtNo\n",
    "        for p in particles:\n",
    "            p['VHEP1'] = x[ievt]\n",
    "            p['VHEP2'] = y[ievt]\n",
    "            p['VHEP3'] = z[ievt]\n",
    "            p['VHEP4'] = t[ievt]\n",
    "    return events"
   ]
  },
  {
   "cell_type": "code",
   "execution_count": 4,
   "id": "fc1b966e",
   "metadata": {},
   "outputs": [],
   "source": [
    "def xyzInBox(xmin, xmax, ymin, ymax, zmin, zmax, n):\n",
    "    rng = np.random.default_rng()\n",
    "    x = rng.uniform(xmin, xmax, n)\n",
    "    y = rng.uniform(ymin, ymax, n)\n",
    "    z = rng.uniform(zmin, zmax, n)\n",
    "    return x, y, z"
   ]
  },
  {
   "cell_type": "code",
   "execution_count": 5,
   "id": "a78d45dc",
   "metadata": {},
   "outputs": [],
   "source": [
    "def writeHEPEVT( tRad, snEvents, prefix, subrun, ymin, ymax, zmin, zmax):\n",
    "\n",
    "    hepevtName = f'{prefix}_{subrun:02d}.hepevt'\n",
    "    nParticlePerVtx = 1\n",
    "\n",
    "    with open(hepevtName, 'w') as f:\n",
    "        lastEvt = None\n",
    "        iVertex = 0\n",
    "        for iPart, iEvt in enumerate( tRad ):\n",
    "            if ( iEvt.y > ymax or iEvt.y < ymin or iEvt.z > zmax or iEvt.z < zmin ): continue\n",
    "\n",
    "            thisEvt = iEvt.event-1\n",
    "\n",
    "            # First vertex is always the supernova neutrino interaction\n",
    "            if thisEvt != lastEvt:    \n",
    "                iVertex = 0\n",
    "                snEvt = snEvents[thisEvt]\n",
    "                nParticlesSN = len(snEvt[1])\n",
    "                # print( snEvt[1])\n",
    "                f.write( f'{thisEvt} {iVertex} {nParticlesSN}\\n')\n",
    "                for p in snEvt[1]:\n",
    "                    f.write(f\"{p['ISTHEP']} {p['IDHEP']} {p['JMOHEP1']} {p['JMOHEP2']} {p['JDAHEP1']} {p['JDAHEP2']} \"\n",
    "                            f\"{p['PHEP1']:.6f} {p['PHEP2']:.6f} {p['PHEP3']:.6f} {p['PHEP4']:.6f} {p['PHEP5']:.6f} \"\n",
    "                            f\"{p['VHEP1']:.6f} {p['VHEP2']:.6f} {p['VHEP3']:.6f} {p['VHEP4']}\\n\")\n",
    "\n",
    "            # From the second vertex (iVertex = 1), start filling the radiological background\n",
    "            else:\n",
    "                f.write( f'{thisEvt} {iVertex} {nParticlePerVtx}\\n')\n",
    "            \n",
    "                # ISTHEP IDHEP JMOHEP1 JMOHEP2 JDAHEP1 JDAHEP2 PHEP1 PHEP2 PHEP3 PHEP4 PHEP5 VHEP1 VHEP2 VHEP3 VHEP4\n",
    "                # final-state particle\n",
    "                ISTHEP = 1\n",
    "                IDHEP = iEvt.pdg_code\n",
    "                # The JMOHEP1, JMOHEP2, JDAHEP1, and JDAHEP2 entries record the indices (between 1 and NHEP, inclusive) \n",
    "                # of particles in the event record that correspond to the first mother, second mother, first daughter, \n",
    "                # and last daughter of the current particle, respectively. \n",
    "                JMOHEP1 = 0\n",
    "                JMOHEP2 = 0\n",
    "                JDAHEP1 = 0\n",
    "                JDAHEP2 = 0\n",
    "\n",
    "                PHEP1 = iEvt.px\n",
    "                PHEP2 = iEvt.py\n",
    "                PHEP3 = iEvt.pz\n",
    "                PHEP4 = iEvt.Etot\n",
    "                PHEP5 = iEvt.mass\n",
    "                VHEP1 = iEvt.x\n",
    "                VHEP2 = iEvt.y\n",
    "                VHEP3 = iEvt.z\n",
    "                VHEP4 = iEvt.t\n",
    "                f.write( f'{ISTHEP} {IDHEP} {JMOHEP1} {JMOHEP2} {JDAHEP1} {JDAHEP2} {PHEP1} {PHEP2} {PHEP3} {PHEP4} {PHEP5} {VHEP1} {VHEP2} {VHEP3} {VHEP4}\\n')\n",
    "                \n",
    "            iVertex += 1\n",
    "            lastEvt = thisEvt\n",
    "    return        "
   ]
  },
  {
   "cell_type": "code",
   "execution_count": 6,
   "id": "c74d6519",
   "metadata": {},
   "outputs": [],
   "source": [
    "# Radiological files\n",
    "radDir = '/Users/yuntse/data/lartpc_rd/gampix/gen'\n",
    "radFile = f'{radDir}/dune/fullgeoanatruth-vd1x8x14-1000.root'\n",
    "outPrefix = f'{radDir}/nurad/nueArCC_garching_nh_mxpypzDir-rad-vd-reduced'"
   ]
  },
  {
   "cell_type": "code",
   "execution_count": 7,
   "id": "0eb458b7",
   "metadata": {},
   "outputs": [],
   "source": [
    "fRad = ROOT.TFile( radFile )\n",
    "tRad = fRad.Get(\"fullgeoanatruth/FullGeoAnaTruth\")"
   ]
  },
  {
   "cell_type": "code",
   "execution_count": 8,
   "id": "2c1963cc",
   "metadata": {},
   "outputs": [],
   "source": [
    "# Division\n",
    "nY = 1 # 4\n",
    "nZ = 2 # 7\n",
    "nEvents = 1000"
   ]
  },
  {
   "cell_type": "code",
   "execution_count": 9,
   "id": "de3c905c",
   "metadata": {},
   "outputs": [],
   "source": [
    "# cm\n",
    "YLow = -600.\n",
    "ZLow = 0.\n",
    "YLength = 300.\n",
    "ZLength = 300.\n",
    "xCathode = -325.\n",
    "xCRP = 325."
   ]
  },
  {
   "cell_type": "code",
   "execution_count": 10,
   "id": "503007bd",
   "metadata": {},
   "outputs": [],
   "source": [
    "# Supernova neutrinos\n",
    "snDir = '/Users/yuntse/data/lartpc_rd/gampix/gen/marley_raw'\n",
    "snInPrefix = 'nueArCC_garching_nh_mxpypzDir'"
   ]
  },
  {
   "cell_type": "code",
   "execution_count": 11,
   "id": "25fdb282",
   "metadata": {},
   "outputs": [
    {
     "name": "stdout",
     "output_type": "stream",
     "text": [
      "Processing Subrun 0, radiologicals in -600.0 < y < -300.0cm, 0.0 < z < 300.0cm...\n"
     ]
    },
    {
     "ename": "KeyboardInterrupt",
     "evalue": "",
     "output_type": "error",
     "traceback": [
      "\u001b[0;31m---------------------------------------------------------------------------\u001b[0m",
      "\u001b[0;31mKeyboardInterrupt\u001b[0m                         Traceback (most recent call last)",
      "Cell \u001b[0;32mIn[11], line 17\u001b[0m\n\u001b[1;32m     15\u001b[0m t \u001b[38;5;241m=\u001b[39m np\u001b[38;5;241m.\u001b[39mfull(nEvents, \u001b[38;5;241m0\u001b[39m)\n\u001b[1;32m     16\u001b[0m snEvents \u001b[38;5;241m=\u001b[39m assignXYZT(marleyEvts, x, y ,z, t, \u001b[38;5;241m0\u001b[39m)\n\u001b[0;32m---> 17\u001b[0m writeHEPEVT( tRad, snEvents, outPrefix, subrun, ymin, ymax, zmin, zmax)\n",
      "Cell \u001b[0;32mIn[5], line 44\u001b[0m, in \u001b[0;36mwriteHEPEVT\u001b[0;34m(tRad, snEvents, prefix, subrun, ymin, ymax, zmin, zmax)\u001b[0m\n\u001b[1;32m     42\u001b[0m PHEP1 \u001b[38;5;241m=\u001b[39m iEvt\u001b[38;5;241m.\u001b[39mpx\n\u001b[1;32m     43\u001b[0m PHEP2 \u001b[38;5;241m=\u001b[39m iEvt\u001b[38;5;241m.\u001b[39mpy\n\u001b[0;32m---> 44\u001b[0m PHEP3 \u001b[38;5;241m=\u001b[39m iEvt\u001b[38;5;241m.\u001b[39mpz\n\u001b[1;32m     45\u001b[0m PHEP4 \u001b[38;5;241m=\u001b[39m iEvt\u001b[38;5;241m.\u001b[39mEtot\n\u001b[1;32m     46\u001b[0m PHEP5 \u001b[38;5;241m=\u001b[39m iEvt\u001b[38;5;241m.\u001b[39mmass\n",
      "File \u001b[0;32m~/opt/root-v6.36.00/lib/ROOT/_pythonization/_ttree.py:306\u001b[0m, in \u001b[0;36m_TTree__getattr__\u001b[0;34m(self, key)\u001b[0m\n\u001b[1;32m    288\u001b[0m \u001b[38;5;250m\u001b[39m\u001b[38;5;124;03m\"\"\"\u001b[39;00m\n\u001b[1;32m    289\u001b[0m \u001b[38;5;124;03mAllow branches to be accessed as attributes of a tree.\u001b[39;00m\n\u001b[1;32m    290\u001b[0m \n\u001b[0;32m   (...)\u001b[0m\n\u001b[1;32m    301\u001b[0m \u001b[38;5;124;03mkey (str): The name of the branch to retrieve from the TTree object.\u001b[39;00m\n\u001b[1;32m    302\u001b[0m \u001b[38;5;124;03m\"\"\"\u001b[39;00m\n\u001b[1;32m    304\u001b[0m \u001b[38;5;28;01mimport\u001b[39;00m \u001b[38;5;21;01mcppyy\u001b[39;00m\u001b[38;5;21;01m.\u001b[39;00m\u001b[38;5;21;01mll\u001b[39;00m\n\u001b[0;32m--> 306\u001b[0m out, cast_type \u001b[38;5;241m=\u001b[39m GetBranchAttr(\u001b[38;5;28mself\u001b[39m, key)\n\u001b[1;32m    307\u001b[0m \u001b[38;5;28;01mif\u001b[39;00m cast_type:\n\u001b[1;32m    308\u001b[0m     out \u001b[38;5;241m=\u001b[39m cppyy\u001b[38;5;241m.\u001b[39mll\u001b[38;5;241m.\u001b[39mcast[cast_type](out)\n",
      "\u001b[0;31mKeyboardInterrupt\u001b[0m: "
     ]
    }
   ],
   "source": [
    "for iy in range( nY ):\n",
    "    for iz in range( nZ ):\n",
    "\n",
    "        ymin = YLength*float(iy) + YLow\n",
    "        ymax = YLength*float(iy+1) + YLow\n",
    "        zmin = ZLength*float(iz) + ZLow\n",
    "        zmax = ZLength*float(iz+1) + ZLow\n",
    "        subrun = iy*nZ + iz\n",
    "\n",
    "        snFile = f'{snDir}/{snInPrefix}_{subrun:02d}.hepevt'\n",
    "\n",
    "        print( f'Processing Subrun {subrun}, radiologicals in {ymin} < y < {ymax}cm, {zmin} < z < {zmax}cm...')\n",
    "        marleyEvts = readHepevt( snFile, 0)\n",
    "        x, y, z = xyzInBox(xCathode, xCRP, ymin, ymax, zmin, zmax, nEvents)\n",
    "        t = np.full(nEvents, 0)\n",
    "        snEvents = assignXYZT(marleyEvts, x, y ,z, t, 0)\n",
    "        writeHEPEVT( tRad, snEvents, outPrefix, subrun, ymin, ymax, zmin, zmax)"
   ]
  },
  {
   "cell_type": "code",
   "execution_count": null,
   "id": "ebd8c42f-6dd8-4fb0-816a-9ab7e17d4ebf",
   "metadata": {},
   "outputs": [],
   "source": []
  }
 ],
 "metadata": {
  "kernelspec": {
   "display_name": "Python 3 (ipykernel)",
   "language": "python",
   "name": "python3"
  },
  "language_info": {
   "codemirror_mode": {
    "name": "ipython",
    "version": 3
   },
   "file_extension": ".py",
   "mimetype": "text/x-python",
   "name": "python",
   "nbconvert_exporter": "python",
   "pygments_lexer": "ipython3",
   "version": "3.12.7"
  }
 },
 "nbformat": 4,
 "nbformat_minor": 5
}
