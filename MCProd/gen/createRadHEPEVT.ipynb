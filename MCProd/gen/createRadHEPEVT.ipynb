{
 "cells": [
  {
   "cell_type": "markdown",
   "id": "bf92d66d-d49d-48e5-b338-1835104873fb",
   "metadata": {},
   "source": [
    "# Create HEPEVT files for radiologicals\n",
    "\n",
    "Radiological ROOT file is from Juergen and Gleb.\n",
    "\n",
    "This script is adpated from https://github.com/yuntsebaryon/GAMPix4SNe/blob/main/OldG4Format/G4IO/rootifyRad.ipynb, the one for the old format.\n",
    "\n",
    "## Units\n",
    "\n",
    "cm, GeV/c, ns\n",
    "\n",
    "for both the ROOT and HEPEVT files\n",
    "\n",
    "## LAr Geometry\n",
    "\n",
    "X is the drift direction, vertical \\\n",
    "Xmin = -425.0cm \\\n",
    "Xmax = 425.08cm \\\n",
    "Cathode = -325cm \\\n",
    "CRP = 325cm \\\n",
    "Ymin = -753.8024cm \\\n",
    "Ymax = 753.8024cm \\\n",
    "Zmin = -107.0cm \\\n",
    "Zmax = 2198.88cm\n",
    "\n",
    "Strategy: To reduce the processing time, I decide to futher reduce the LAr geometry.  I fix the location of neutrino interactions in each sample, i.e. the center in the y-z plane, and cut a square 150cm away from the center of the y-z plane.  Therefore it is a 300x300 cm$^2$ in the y-z plane.  The 150cm is obtained from my containment study for the SNS/COHERENT neutrino source; 96% of the total deposited energy from the SNS $\\nu_e$s (from $\\pi$ decays at rest) will be contained by the cube border 95cm away from the center (190x190x190cm$^3$)."
   ]
  },
  {
   "cell_type": "code",
   "execution_count": 1,
   "id": "a86c6e40-c278-478f-92cd-d1eb7aa64d1b",
   "metadata": {},
   "outputs": [],
   "source": [
    "import ROOT"
   ]
  },
  {
   "cell_type": "code",
   "execution_count": 2,
   "id": "f784327f-6681-497a-9b25-a62d04b2533e",
   "metadata": {},
   "outputs": [],
   "source": [
    "def writeHEPEVT( tRad, prefix, subrun, ymin, ymax, zmin, zmax, nEvents):\n",
    "\n",
    "    hepevtName = f'{prefix}_{subrun:02d}.hepevt'\n",
    "    yCenter = ( ymin + ymax )/2.\n",
    "    zCenter = ( zmin + zmax )/2. - (-107+2198.88)/2\n",
    "    nParticlePerVtx = 1\n",
    "\n",
    "    with open(hepevtName, 'w') as f:\n",
    "        lastEvt = None\n",
    "        iVertex = 0\n",
    "        for iPart, iEvt in enumerate( tRad ):\n",
    "            if ( iEvt.y > ymax or iEvt.y < ymin or iEvt.z > zmax or iEvt.z < zmin ): continue\n",
    "\n",
    "            if iEvt.event-1 != lastEvt:\n",
    "                iVertex = 0\n",
    "            f.write( f'{iEvt.event-1} {iVertex} {nParticlePerVtx}\\n')\n",
    "            \n",
    "            # ISTHEP IDHEP JMOHEP1 JMOHEP2 JDAHEP1 JDAHEP2 PHEP1 PHEP2 PHEP3 PHEP4 PHEP5 VHEP1 VHEP2 VHEP3 VHEP4\n",
    "            # final-state particle\n",
    "            ISTHEP = 1\n",
    "            IDHEP = iEvt.pdg_code\n",
    "            # The JMOHEP1, JMOHEP2, JDAHEP1, and JDAHEP2 entries record the indices (between 1 and NHEP, inclusive) \n",
    "            # of particles in the event record that correspond to the first mother, second mother, first daughter, \n",
    "            # and last daughter of the current particle, respectively. \n",
    "            JMOHEP1 = 0\n",
    "            JMOHEP2 = 0\n",
    "            JDAHEP1 = 0\n",
    "            JDAHEP2 = 0\n",
    "\n",
    "            PHEP1 = iEvt.px\n",
    "            PHEP2 = iEvt.py\n",
    "            PHEP3 = iEvt.pz\n",
    "            PHEP4 = iEvt.Etot\n",
    "            PHEP5 = iEvt.mass\n",
    "            VHEP1 = iEvt.x\n",
    "            VHEP2 = iEvt.y - yCenter\n",
    "            VHEP3 = iEvt.z - zCenter\n",
    "            VHEP4 = iEvt.t\n",
    "            f.write( f'{ISTHEP} {IDHEP} {JMOHEP1} {JMOHEP2} {JDAHEP1} {JDAHEP2} {PHEP1} {PHEP2} {PHEP3} {PHEP4} {PHEP5} {VHEP1} {VHEP2} {VHEP3} {VHEP4}\\n')\n",
    "            iVertex += 1\n",
    "            lastEvt = iEvt.event-1\n",
    "    return        "
   ]
  },
  {
   "cell_type": "code",
   "execution_count": 3,
   "id": "589ede5a-3ad1-45eb-9931-86a759c87b49",
   "metadata": {},
   "outputs": [],
   "source": [
    "Dir = '/Users/yuntse/data/lartpc_rd/gampix/radiologicals'\n",
    "infile = f'{Dir}/dune/fullgeoanatruth-vd1x8x14-1000.root'\n",
    "prefix = f'{Dir}/gen/fullgeoanatruth-vd-reduced'"
   ]
  },
  {
   "cell_type": "code",
   "execution_count": 4,
   "id": "b9e6c0f9-d0e4-4f55-b2d8-4d6463bb4b7b",
   "metadata": {},
   "outputs": [],
   "source": [
    "# Division\n",
    "nY = 4\n",
    "nZ = 7\n",
    "nEvents = 1000"
   ]
  },
  {
   "cell_type": "code",
   "execution_count": 5,
   "id": "6283af1e-042b-4155-b7a7-eec3e0cdd0cd",
   "metadata": {},
   "outputs": [],
   "source": [
    "# cm\n",
    "YLow = -600.\n",
    "ZLow = 0.\n",
    "YLength = 300.\n",
    "ZLength = 300."
   ]
  },
  {
   "cell_type": "code",
   "execution_count": 6,
   "id": "23aa5fdf-44dc-4fdb-a45a-9e8f1c6509ca",
   "metadata": {},
   "outputs": [],
   "source": [
    "fRad = ROOT.TFile( infile )\n",
    "tRad = fRad.Get(\"fullgeoanatruth/FullGeoAnaTruth\")"
   ]
  },
  {
   "cell_type": "code",
   "execution_count": 7,
   "id": "7e223daa-3de1-42cc-9936-421a0757cf7d",
   "metadata": {},
   "outputs": [
    {
     "name": "stdout",
     "output_type": "stream",
     "text": [
      "Processing Subrun 0, -600.0 < y < -300.0cm, 0.0 < z < 300.0cm...\n",
      "Processing Subrun 1, -600.0 < y < -300.0cm, 300.0 < z < 600.0cm...\n",
      "Processing Subrun 2, -600.0 < y < -300.0cm, 600.0 < z < 900.0cm...\n",
      "Processing Subrun 3, -600.0 < y < -300.0cm, 900.0 < z < 1200.0cm...\n",
      "Processing Subrun 4, -600.0 < y < -300.0cm, 1200.0 < z < 1500.0cm...\n",
      "Processing Subrun 5, -600.0 < y < -300.0cm, 1500.0 < z < 1800.0cm...\n",
      "Processing Subrun 6, -600.0 < y < -300.0cm, 1800.0 < z < 2100.0cm...\n",
      "Processing Subrun 7, -300.0 < y < 0.0cm, 0.0 < z < 300.0cm...\n",
      "Processing Subrun 8, -300.0 < y < 0.0cm, 300.0 < z < 600.0cm...\n",
      "Processing Subrun 9, -300.0 < y < 0.0cm, 600.0 < z < 900.0cm...\n",
      "Processing Subrun 10, -300.0 < y < 0.0cm, 900.0 < z < 1200.0cm...\n",
      "Processing Subrun 11, -300.0 < y < 0.0cm, 1200.0 < z < 1500.0cm...\n",
      "Processing Subrun 12, -300.0 < y < 0.0cm, 1500.0 < z < 1800.0cm...\n",
      "Processing Subrun 13, -300.0 < y < 0.0cm, 1800.0 < z < 2100.0cm...\n",
      "Processing Subrun 14, 0.0 < y < 300.0cm, 0.0 < z < 300.0cm...\n",
      "Processing Subrun 15, 0.0 < y < 300.0cm, 300.0 < z < 600.0cm...\n",
      "Processing Subrun 16, 0.0 < y < 300.0cm, 600.0 < z < 900.0cm...\n",
      "Processing Subrun 17, 0.0 < y < 300.0cm, 900.0 < z < 1200.0cm...\n",
      "Processing Subrun 18, 0.0 < y < 300.0cm, 1200.0 < z < 1500.0cm...\n",
      "Processing Subrun 19, 0.0 < y < 300.0cm, 1500.0 < z < 1800.0cm...\n",
      "Processing Subrun 20, 0.0 < y < 300.0cm, 1800.0 < z < 2100.0cm...\n",
      "Processing Subrun 21, 300.0 < y < 600.0cm, 0.0 < z < 300.0cm...\n",
      "Processing Subrun 22, 300.0 < y < 600.0cm, 300.0 < z < 600.0cm...\n",
      "Processing Subrun 23, 300.0 < y < 600.0cm, 600.0 < z < 900.0cm...\n",
      "Processing Subrun 24, 300.0 < y < 600.0cm, 900.0 < z < 1200.0cm...\n",
      "Processing Subrun 25, 300.0 < y < 600.0cm, 1200.0 < z < 1500.0cm...\n",
      "Processing Subrun 26, 300.0 < y < 600.0cm, 1500.0 < z < 1800.0cm...\n",
      "Processing Subrun 27, 300.0 < y < 600.0cm, 1800.0 < z < 2100.0cm...\n"
     ]
    }
   ],
   "source": [
    "for iy in range( nY ):\n",
    "    for iz in range( nZ ):\n",
    "\n",
    "        ymin = YLength*float(iy) + YLow\n",
    "        ymax = YLength*float(iy+1) + YLow\n",
    "        zmin = ZLength*float(iz) + ZLow\n",
    "        zmax = ZLength*float(iz+1) + ZLow\n",
    "        subrun = iy*nZ + iz\n",
    "\n",
    "        print( f'Processing Subrun {subrun}, {ymin} < y < {ymax}cm, {zmin} < z < {zmax}cm...')\n",
    "        writeHEPEVT( tRad, prefix, subrun, ymin, ymax, zmin, zmax, nEvents)\n"
   ]
  },
  {
   "cell_type": "code",
   "execution_count": null,
   "id": "312a2539-ef29-4b2f-9ab0-f9b0bcba233e",
   "metadata": {},
   "outputs": [],
   "source": []
  }
 ],
 "metadata": {
  "kernelspec": {
   "display_name": "Python 3 (ipykernel)",
   "language": "python",
   "name": "python3"
  },
  "language_info": {
   "codemirror_mode": {
    "name": "ipython",
    "version": 3
   },
   "file_extension": ".py",
   "mimetype": "text/x-python",
   "name": "python",
   "nbconvert_exporter": "python",
   "pygments_lexer": "ipython3",
   "version": "3.12.7"
  }
 },
 "nbformat": 4,
 "nbformat_minor": 5
}
