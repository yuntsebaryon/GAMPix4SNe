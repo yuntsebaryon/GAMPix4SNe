{
 "cells": [
  {
   "cell_type": "markdown",
   "id": "bfadd3f1-c360-4d87-8c28-8012637a9227",
   "metadata": {},
   "source": [
    "# ROOTify the Radiological Background Samples"
   ]
  },
  {
   "cell_type": "code",
   "execution_count": 1,
   "id": "d25ee8cd-1afe-4596-9d2b-a8903ae44160",
   "metadata": {},
   "outputs": [],
   "source": [
    "import ROOT\n",
    "import pandas as pd"
   ]
  },
  {
   "cell_type": "code",
   "execution_count": 2,
   "id": "6b6a9a35-5ad7-4987-a762-18e8e05ef531",
   "metadata": {},
   "outputs": [],
   "source": [
    "fRad = ROOT.TFile(\"/Users/yuntse/data/lartpc_rd/gampix/radiologicals/gen/fullgeoanatruth-vd1x8x14-1000.root\")\n",
    "fCSV = '/Users/yuntse/data/lartpc_rd/gampix/radiologicals/gen/fullgeoanatruth-vd-reduced_0000.csv'\n",
    "fROOT = '/Users/yuntse/data/lartpc_rd/gampix/radiologicals/gen/fullgeoanatruth-vd-reduced_0000.root'"
   ]
  },
  {
   "cell_type": "markdown",
   "id": "04daf5ae-91af-41f4-add5-f5cea67249c0",
   "metadata": {},
   "source": [
    "## Units\n",
    "\n",
    "cm, GeV/c, ns\n",
    "\n",
    "## LAr Geometry\n",
    "\n",
    "X is the drift direction, vertical \\\n",
    "Xmin = -425.0cm \\\n",
    "Xmax = 425.08cm \\\n",
    "Cathode = -325cm \\\n",
    "CRP = 325cm \\\n",
    "Ymin = -753.8024cm \\\n",
    "Ymax = 753.8024cm \\\n",
    "Zmin = -107.0cm \\\n",
    "Zmax = 2198.88cm\n",
    "\n",
    "Strategy: To reduce the processing time, I decide to futher reduce the LAr geometry.  I fix the location of neutrino interactions in each sample, i.e. the center in the y-z plane, and cut a square 150cm away from the center of the y-z plane.  Therefore it is a 300x300 cm$^2$ in the y-z plane.  The 150cm is obtained from my containment study for the SNS/COHERENT neutrino source; 96% of the total deposited energy from the SNS $\\nu_e$s (from $\\pi$ decays at rest) will be contained by the cube border 95cm away from the center (190x190x190cm$^3$)."
   ]
  },
  {
   "cell_type": "code",
   "execution_count": 3,
   "id": "c169f591-81fd-43f5-bb69-965bb0df5d50",
   "metadata": {},
   "outputs": [
    {
     "name": "stdout",
     "output_type": "stream",
     "text": [
      "OBJ: TObjArray\tTObjArray\tAn array of objects : 0\n",
      " OBJ: TBranch\trun\trun/I : 0 at: 0x154aef920\n",
      " OBJ: TBranch\tsubrun\tsubrun/I : 0 at: 0x154af1700\n",
      " OBJ: TBranch\tevent\tevent/I : 0 at: 0x154af1960\n",
      " OBJ: TBranchElement\tlabel\tlabel : 0 at: 0x154af1bc0\n",
      " OBJ: TBranch\tpdg_code\tpdg_code/I : 0 at: 0x154af8df0\n",
      " OBJ: TBranch\tx\tx/D : 0 at: 0x154af9050\n",
      " OBJ: TBranch\ty\ty/D : 0 at: 0x154af92b0\n",
      " OBJ: TBranch\tz\tz/D : 0 at: 0x154af9510\n",
      " OBJ: TBranch\tt\tt/D : 0 at: 0x154af9770\n",
      " OBJ: TBranch\tpx\tpx/D : 0 at: 0x154af99d0\n",
      " OBJ: TBranch\tpy\tpy/D : 0 at: 0x154af9c30\n",
      " OBJ: TBranch\tpz\tpz/D : 0 at: 0x154af9e90\n",
      " OBJ: TBranch\tEtot\tEtot/D : 0 at: 0x154afa0f0\n",
      " OBJ: TBranch\tmass\tmass/D : 0 at: 0x154afa350\n",
      " OBJ: TBranch\tEkin\tEkin/D : 0 at: 0x154afa5b0\n"
     ]
    }
   ],
   "source": [
    "tRad = fRad.Get(\"fullgeoanatruth/FullGeoAnaTruth\")\n",
    "tRad.GetListOfBranches().ls()"
   ]
  },
  {
   "cell_type": "code",
   "execution_count": 4,
   "id": "daa9e9b7-8c91-4e47-b49d-3c43a11a7523",
   "metadata": {},
   "outputs": [],
   "source": [
    "ymin_cut = -150\n",
    "ymax_cut = 150\n",
    "zmin_cut = (-107+2198.88)/2-150\n",
    "zmax_cut = (-107+2198.88)/2+150"
   ]
  },
  {
   "cell_type": "code",
   "execution_count": 5,
   "id": "f8ece5db-fbdf-4747-a34b-f33b51ebded2",
   "metadata": {},
   "outputs": [],
   "source": [
    "with open(fCSV, 'w') as fOut:\n",
    "    print('run/I,subrun/I,event/I,pdgCode/I,x/D,y/D,z/D,t/D,px/D,py/D,pz/D,E/D,mass/D', file = fOut)\n",
    "    for iPart, iEvt in enumerate( tRad ):\n",
    "        if ( iEvt.y > ymax_cut or iEvt.y < ymin_cut or iEvt.z > zmax_cut or iEvt.z < zmin_cut ): continue\n",
    "        print(f'{iEvt.run},{iEvt.subrun},{iEvt.event-1},{iEvt.pdg_code},{iEvt.x},{iEvt.y},{iEvt.z},{iEvt.t},{iEvt.px},{iEvt.py},{iEvt.pz},{iEvt.Etot},{iEvt.mass}', file = fOut)"
   ]
  },
  {
   "cell_type": "code",
   "execution_count": 7,
   "id": "306fbd81-9b92-46c4-b34a-725e37f539a5",
   "metadata": {},
   "outputs": [],
   "source": [
    "fDest = ROOT.TFile(fROOT, \"RECREATE\")\n",
    "newTree = ROOT.TTree(\"SNEvent\", \"SNEvent\")\n",
    "newTree.ReadFile(fCSV, \"\", \",\")\n",
    "newTree.SetDirectory(fDest)\n",
    "newTree.Write()\n",
    "fDest.Close()"
   ]
  },
  {
   "cell_type": "markdown",
   "id": "e0baadff-0da8-4cf5-bb22-40cbfab7c2a3",
   "metadata": {},
   "source": [
    "If you want to have both signals and radiologicals in the same event at this moment (i.e. to merge the signal and radiological files), you need to have the signal csv file ready (use `checkMARLEY.ipynb`) and execute\n",
    "```shell\n",
    "sort -t , -k 3,3 -s <signal.csv> <radiological.csv> > SNEvent.csv\n",
    "```\n",
    "The order of the signal and radiological files matter.\n",
    "\n",
    "Then you have to manually remove the headers (two duplicated lines in this case) in the end of the sorted file, and add the header back to the beginning of the file."
   ]
  },
  {
   "cell_type": "code",
   "execution_count": 2,
   "id": "94cb0782-9f92-47a1-872b-b131c73b9c88",
   "metadata": {},
   "outputs": [],
   "source": [
    "fDest = ROOT.TFile(\"SNEvent.root\", \"RECREATE\")\n",
    "newTree = ROOT.TTree(\"SNEvent\", \"SNEvent\")\n",
    "newTree.ReadFile(\"SNEvent.csv\", \"\", \",\")\n",
    "newTree.SetDirectory(fDest)\n",
    "newTree.Write()\n",
    "fDest.Close()"
   ]
  },
  {
   "cell_type": "code",
   "execution_count": null,
   "id": "c358c640-90cb-4274-8160-f511c10753c8",
   "metadata": {},
   "outputs": [],
   "source": []
  }
 ],
 "metadata": {
  "kernelspec": {
   "display_name": "Python 3 (ipykernel)",
   "language": "python",
   "name": "python3"
  },
  "language_info": {
   "codemirror_mode": {
    "name": "ipython",
    "version": 3
   },
   "file_extension": ".py",
   "mimetype": "text/x-python",
   "name": "python",
   "nbconvert_exporter": "python",
   "pygments_lexer": "ipython3",
   "version": "3.12.7"
  }
 },
 "nbformat": 4,
 "nbformat_minor": 5
}
